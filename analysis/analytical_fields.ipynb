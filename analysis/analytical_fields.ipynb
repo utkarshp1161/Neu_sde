{
 "cells": [
  {
   "cell_type": "code",
   "execution_count": null,
   "id": "a482aa45",
   "metadata": {},
   "outputs": [],
   "source": [
    "import numpy as np\n",
    "import matplotlib.pyplot as plt\n",
    "from matplotlib.collections import EllipseCollection"
   ]
  },
  {
   "cell_type": "code",
   "execution_count": null,
   "id": "0d414cfa",
   "metadata": {},
   "outputs": [],
   "source": [
    "plt.rcParams.update(\n",
    "    {\n",
    "        'font.family': 'sans-serif',\n",
    "        'font.sans-serif': 'Helvetica',\n",
    "        'font.size': 32,\n",
    "    }\n",
    ")"
   ]
  },
  {
   "cell_type": "code",
   "execution_count": null,
   "id": "171f0ec3",
   "metadata": {},
   "outputs": [],
   "source": [
    "def plot_drift_field(ax, fx, fy):\n",
    "    \"\"\"\n",
    "    Visualize the drift field as a vector field.\n",
    "\n",
    "    Args:\n",
    "        ax: Axis on to which to plot to.\n",
    "        fx: The (callable) drift function, that map mx, my -> f(mx, my).\n",
    "    \"\"\"\n",
    "\n",
    "    #     r, theta = np.meshgrid(np.linspace(0, 1, 1), np.linspace(0, 2 * np.pi, 90))\n",
    "    #     x, y = r * np.cos(theta), r * np.sin(theta)\n",
    "    x_, y_ = np.meshgrid(np.linspace(-1, 1, 15), np.linspace(-1, 1, 15))\n",
    "    x = x_[x_ ** 2 + y_ ** 2 <= 1]\n",
    "    y = y_[x_ ** 2 + y_ ** 2 <= 1]\n",
    "    qv = ax.quiver(x, y, fx(x, y), fy(x, y),\n",
    "                   np.sqrt(fx(x, y) ** 2 + fy(x, y) ** 2),\n",
    "                   width=0.008, cmap='inferno')\n",
    "    ax.set(xlabel='$m_x$', ylabel='$m_y$')#, title='Drift Field')\n",
    "    ax.set(xticks=[-1, -.5, 0, .5, 1], yticks=[-1, -.5, 0, .5, 1])\n",
    "    ax.set_aspect('equal', 'box')\n",
    "\n",
    "    plt.colorbar(qv, ax=ax, fraction=0.0453)\n",
    "\n",
    "    \n",
    "def plot_diffusion_field(ax, gxx, gyy, gxy, scale=1):\n",
    "    \"\"\"\n",
    "    Visualize the diffusion field\n",
    "\n",
    "    Args:\n",
    "        ax: Axis on to which to plot to\n",
    "        gxx, gyy: Diffusion functions\n",
    "        gxy: Cross diffusion\n",
    "        scale: Scale factor to scale the ellipses with\n",
    "    \"\"\"\n",
    "\n",
    "    x_, y_ = np.meshgrid(np.linspace(-1, 1, 15), np.linspace(-1, 1, 15))\n",
    "    xs = x_[x_ ** 2 + y_ ** 2 <= 1]\n",
    "    ys = y_[x_ ** 2 + y_ ** 2 <= 1]\n",
    "    xy = np.column_stack((xs.ravel(), ys.ravel()))\n",
    "    maj_axis = np.empty(xs.size)\n",
    "    min_axis = np.empty(xs.size)\n",
    "    angles = np.empty(xs.size)\n",
    "    colors = np.empty(xs.size)\n",
    "    for i, (x, y) in enumerate(zip(xs.ravel(), ys.ravel())):\n",
    "        diff = [[gxx(x, y), gxy(x, y)],\n",
    "                [gxy(x, y), gyy(x, y)]]\n",
    "\n",
    "        # Eigendecomposition is computed using the lower triangular part, assuming symmetry\n",
    "        eigval, eigvec = np.linalg.eigh(diff, UPLO='L')\n",
    "        maj_axis[i] = scale * eigval[0]\n",
    "        min_axis[i] = scale * eigval[1]\n",
    "        angles[i] = np.arctan2(eigvec[0, 1], eigvec[0, 0]) * 180 / np.pi\n",
    "        colors[i] = np.linalg.det(diff)\n",
    "\n",
    "    ec = EllipseCollection(maj_axis, min_axis, angles,\n",
    "                           offsets=xy, offset_transform=ax.transData,\n",
    "                           linewidths=1.5,\n",
    "                           # edgecolors=,\n",
    "                           # edgecolors=plt.cm.inferno(plt.Normalize()(colors)),\n",
    "                           facecolors=(0, 0, 0, 0),\n",
    "                           cmap='inferno')\n",
    "    ec.set_array(colors)\n",
    "    ax.add_collection(ec)\n",
    "    ax.autoscale_view()\n",
    "    # ax.scatter(xs.ravel(), ys.ravel(), marker='+', color=(0.8, 0.8, 0.8))\n",
    "    ax.set(xlabel='$m_x$', ylabel='$m_y$')\n",
    "    ax.set(xticks=[-1, -.5, 0, .5, 1], yticks=[-1, -.5, 0, .5, 1])\n",
    "    ax.set_aspect('equal', 'box')\n",
    "\n",
    "    plt.colorbar(ec, ax=ax, fraction=0.0453)\n"
   ]
  },
  {
   "cell_type": "code",
   "execution_count": null,
   "id": "7ea34987",
   "metadata": {},
   "outputs": [],
   "source": [
    "r1, r2, r3 = 0, 0, 0\n",
    "N = 30\n",
    "\n",
    "def fx(x, y):\n",
    "    return - r1 * x + r3 * ( 1 - x ** 2 - y ** 2) * x\n",
    "\n",
    "def fy(x, y):\n",
    "    return - r1 * y + r3 * ( 1 - x ** 2 - y ** 2) * y\n",
    "\n",
    "def g(x, y):\n",
    "    return (r1 + (r2 + r3) * (1 - x ** 2 - y ** 2)) / N\n",
    "\n",
    "def gxy(x, y):\n",
    "    return 0"
   ]
  },
  {
   "cell_type": "code",
   "execution_count": null,
   "id": "afccbfb0",
   "metadata": {},
   "outputs": [],
   "source": [
    "# Pairwise model\n",
    "r1 = 1\n",
    "r2 = 1\n",
    "r3 = 0"
   ]
  },
  {
   "cell_type": "code",
   "execution_count": null,
   "id": "d95466a8",
   "metadata": {},
   "outputs": [],
   "source": [
    "figure, ax = plt.subplots(figsize=(8, 8))\n",
    "plot_drift_field(ax, fx, fy)\n",
    "plt.tight_layout()\n",
    "plt.savefig('drift_field_analytical_pw.pdf')"
   ]
  },
  {
   "cell_type": "code",
   "execution_count": null,
   "id": "c890d06d",
   "metadata": {},
   "outputs": [],
   "source": [
    "figure, ax = plt.subplots(figsize=(8, 8))\n",
    "plot_diffusion_field(ax, g, g, gxy, scale=220)\n",
    "plt.tight_layout()\n",
    "plt.savefig('diff_field_analytical_pw.pdf')"
   ]
  },
  {
   "cell_type": "code",
   "execution_count": null,
   "id": "9c63c58c",
   "metadata": {},
   "outputs": [],
   "source": [
    "# Ternary model\n",
    "r1 = 1\n",
    "r2 = 2\n",
    "r3 = 3"
   ]
  },
  {
   "cell_type": "code",
   "execution_count": null,
   "id": "5d4e8255",
   "metadata": {},
   "outputs": [],
   "source": [
    "figure, ax = plt.subplots(figsize=(8, 8))\n",
    "plot_drift_field(ax, fx, fy)\n",
    "plt.tight_layout()\n",
    "plt.savefig('drift_field_analytical_ter.pdf')"
   ]
  },
  {
   "cell_type": "code",
   "execution_count": null,
   "id": "5a18f4b0",
   "metadata": {},
   "outputs": [],
   "source": [
    "figure, ax = plt.subplots(figsize=(8, 8))\n",
    "plot_diffusion_field(ax, g, g, gxy, scale=80)\n",
    "plt.tight_layout()\n",
    "plt.savefig('diff_field_analytical_ter.pdf')"
   ]
  }
 ],
 "metadata": {
  "kernelspec": {
   "display_name": "Python 3 (ipykernel)",
   "language": "python",
   "name": "python3"
  },
  "language_info": {
   "codemirror_mode": {
    "name": "ipython",
    "version": 3
   },
   "file_extension": ".py",
   "mimetype": "text/x-python",
   "name": "python",
   "nbconvert_exporter": "python",
   "pygments_lexer": "ipython3",
   "version": "3.9.15"
  }
 },
 "nbformat": 4,
 "nbformat_minor": 5
}
