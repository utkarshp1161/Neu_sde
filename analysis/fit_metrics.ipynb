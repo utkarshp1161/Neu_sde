{
  "cells": [
    {
      "cell_type": "code",
      "source": [
        "import numpy as np\n",
        "import matplotlib.pyplot as plt\n",
        "import pydaddy\n",
        "from scipy.signal import correlate\n",
        "from scipy.optimize import curve_fit\n",
        "from scipy.special import rel_entr\n",
        "from scipy.stats import wasserstein_distance\n",
        "import sdeint"
      ],
      "outputs": [],
      "execution_count": null,
      "metadata": {},
      "id": "535597aa"
    },
    {
      "cell_type": "code",
      "source": [
        "# plt.rcParams.update(\n",
        "#     {\n",
        "#         'font.family': 'sans-serif',\n",
        "#         'font.sans-serif': 'Helvetica',\n",
        "#         'font.size': 32,\n",
        "#     }\n",
        "# )"
      ],
      "outputs": [],
      "execution_count": null,
      "metadata": {},
      "id": "23838e46"
    },
    {
      "cell_type": "code",
      "source": [
        "def acf(data, t_lag=1000):\n",
        "    \"\"\"\n",
        "    Calculates autocorrelation using wiener khinchin theorem.\n",
        "    \"\"\"\n",
        "\n",
        "    data = data - data.mean()\n",
        "    x = np.arange(0, t_lag)\n",
        "    c = np.fft.ifft(np.square(np.abs(np.fft.fft(data))))\n",
        "    c /= c[0]\n",
        "    return c[0:t_lag]\n",
        "\n",
        "def act(m):\n",
        "    rho = acf(m)\n",
        "    rho = rho[rho.argmax():]\n",
        "    t = np.arange(rho.size)\n",
        "    ftau = lambda t, a, b, c: a * np.exp((-t / b)) + c\n",
        "    params, cov = curve_fit(ftau, t, rho)\n",
        "    tau = params[1]\n",
        "    return tau\n",
        "\n",
        "def trel(m1, m2):\n",
        "    tau1, tau2 = act(m1), act(m2)\n",
        "    print(f'tau_1: {tau1}')\n",
        "    print(f'tau_2: {tau2}')    \n",
        "    \n",
        "    print(f'T_rel: {abs(tau1 - tau2)/ tau1}')"
      ],
      "outputs": [],
      "execution_count": null,
      "metadata": {},
      "id": "ab91d973"
    },
    {
      "cell_type": "code",
      "source": [
        "def simulate(F1, F2, G11, G22, t_int, timepoints, x0=None):\n",
        "    tspan = np.arange(0, t_int * timepoints, step=t_int)\n",
        "    \n",
        "    def F(x):\n",
        "        return np.array([F1(*x), F2(*x)])\n",
        "\n",
        "    def G(x):\n",
        "            return np.diag([np.sqrt(np.abs(G11(*x))), np.sqrt(np.abs(G22(*x)))])\n",
        "\n",
        "    if x0 is None:\n",
        "        x0 = np.array([0., 0.])\n",
        "\n",
        "    x_sim = np.zeros((timepoints, 2))\n",
        "    x_sim[0, :] = x0\n",
        "    \n",
        "    for i in range(1, timepoints):\n",
        "        x_next = (x_sim[i - 1, :] + \n",
        "                  t_int * F(x_sim[i - 1, :]) + \n",
        "                  np.sqrt(t_int) * G(x_sim[i - 1, :]) @ np.random.normal(size=(2, )))\n",
        "        while(x_next[0] ** 2 + x_next[1] ** 2 > 1):\n",
        "            x_next = (x_sim[i - 1, :] + \n",
        "                  t_int * F(x_sim[i - 1, :]) + \n",
        "                  np.sqrt(t_int) * G(x_sim[i - 1, :]) @ np.random.normal(size=(2, )))\n",
        "        x_sim[i, :] = x_next\n",
        "        \n",
        "    return x_sim"
      ],
      "outputs": [],
      "execution_count": null,
      "metadata": {},
      "id": "4ab8c325"
    },
    {
      "cell_type": "code",
      "source": [
        "dataset = '30'\n",
        "f_act = f'data/{dataset}_extracted.npy'\n",
        "f_sim = f'data/sampled_x_0_bc_{dataset}.npy'\n",
        "\n",
        "actual = np.load(f_act)\n",
        "# actual, _ = pydaddy.load_sample_dataset('model-data-vector-ternary')\n",
        "# actual = np.array(actual).T\n",
        "simulated = np.load(f_sim)"
      ],
      "outputs": [],
      "execution_count": null,
      "metadata": {},
      "id": "cafb5336"
    },
    {
      "cell_type": "code",
      "source": [
        "actual.shape, simulated.shape"
      ],
      "outputs": [],
      "execution_count": null,
      "metadata": {},
      "id": "afba4abe"
    },
    {
      "cell_type": "code",
      "source": [
        "modm_actual = np.sqrt(actual[:, 0] ** 2 + actual[:, 1] ** 2)\n",
        "modm_simulated = np.sqrt(simulated[:, 0] ** 2 + simulated[:, 1] ** 2)"
      ],
      "outputs": [],
      "execution_count": null,
      "metadata": {},
      "id": "a2a9c141"
    },
    {
      "cell_type": "code",
      "source": [
        "wasserstein_distance(modm_actual, modm_simulated)"
      ],
      "outputs": [],
      "execution_count": null,
      "metadata": {},
      "id": "e180f577"
    },
    {
      "cell_type": "code",
      "source": [
        "trel(modm_actual, modm_simulated)"
      ],
      "outputs": [],
      "execution_count": null,
      "metadata": {},
      "id": "bec82e56"
    },
    {
      "cell_type": "code",
      "source": [
        "plt.figure(figsize=(8, 8))\n",
        "plt.hist(np.sqrt(actual[:, 0] ** 2 + actual[:, 1] ** 2), bins=100, density=True, alpha=0.5, label='Actual')\n",
        "plt.hist(np.sqrt(simulated[:, 0] ** 2 + simulated[:, 1] ** 2), bins=100, density=True, alpha=0.5, label='Simulated')\n",
        "plt.legend()\n",
        "plt.xlabel('$|\\mathbf{m}|$')\n",
        "plt.ylabel('$p(|\\mathbf{m}|)$')\n",
        "plt.xlim([0, 1.1])\n",
        "plt.tight_layout()\n",
        "plt.savefig(f'{dataset}_histogram.pdf')\n",
        "plt.show()"
      ],
      "outputs": [],
      "execution_count": null,
      "metadata": {},
      "id": "3975695c"
    },
    {
      "cell_type": "code",
      "source": [
        "# acf_actual = correlate(modm_actual, modm_actual)\n",
        "# # acf_actual = acf_actual[acf_actual.argmax():] / acf_actual.max()\n",
        "# acf_simulated = correlate(modm_simulated, modm_simulated)\n",
        "# acf_simulated = acf_simulated[acf_simulated.argmax():] #/ acf_simulated.max()\n",
        "\n",
        "# acf_simulated_pydaddy = correlate(modm_simulated_pyd, modm_simulated_pyd)\n",
        "# acf_simulated_pydaddy= acf_simulated_pydaddy[acf_simulated_pydaddy.argmax():] #/ acf_simulated_pydaddy.max()\n",
        "\n",
        "acf_actual = acf(modm_actual)\n",
        "acf_simulated = acf(modm_simulated)\n",
        "# acf_simulated_pyd = acf(modm_simulated_pyd)\n",
        "\n",
        "plt.figure(figsize=(8, 8))\n",
        "plt.plot(acf_actual[:200], lw=3, label='Actual')\n",
        "plt.plot(acf_simulated[:200], lw=3, label='Simulated')\n",
        "# plt.plot(acf_simulated_pyd[:1000], lw=3)\n",
        "plt.xlabel('$t$')\n",
        "plt.ylabel('Autocorrelation $\\\\rho_{|\\\\mathbf{m}|}$')\n",
        "plt.legend()\n",
        "plt.tight_layout()\n",
        "# plt.savefig(f'{dataset}_autocorr.pdf')\n",
        "plt.show()"
      ],
      "outputs": [],
      "execution_count": null,
      "metadata": {},
      "id": "a1d81d5a"
    },
    {
      "cell_type": "code",
      "source": [
        "plt.plot(modm_actual[:1000], label='Actual')\n",
        "plt.plot(modm_simulated[:1000], label='Simulated')\n",
        "plt.legend()\n",
        "plt.xlabel('t')\n",
        "plt.ylabel('|m|')\n",
        "plt.show()"
      ],
      "outputs": [],
      "execution_count": null,
      "metadata": {},
      "id": "5ee607f4"
    },
    {
      "cell_type": "code",
      "source": [
        "dd = pydaddy.Characterize(actual.T, t_inc=0.12, bins=20)"
      ],
      "outputs": [],
      "execution_count": null,
      "metadata": {},
      "id": "21cff103"
    },
    {
      "cell_type": "code",
      "source": [
        "print(dd.fit('F1', order=3, threshold=0.005))"
      ],
      "outputs": [],
      "execution_count": null,
      "metadata": {},
      "id": "fd63e3e3"
    },
    {
      "cell_type": "code",
      "source": [
        "print(dd.fit('F2', order=3, threshold=0.005))"
      ],
      "outputs": [],
      "execution_count": null,
      "metadata": {},
      "id": "4ede0f1a"
    },
    {
      "cell_type": "code",
      "source": [
        "print(dd.fit('G11', order=2, threshold=0.001))"
      ],
      "outputs": [],
      "execution_count": null,
      "metadata": {},
      "id": "96b94671"
    },
    {
      "cell_type": "code",
      "source": [
        "print(dd.fit('G22', order=2, threshold=0.001))"
      ],
      "outputs": [],
      "execution_count": null,
      "metadata": {},
      "id": "0e3b1bd2"
    },
    {
      "cell_type": "code",
      "source": [
        "print(dd.fit('G12', order=2, threshold=0.001))"
      ],
      "outputs": [],
      "execution_count": null,
      "metadata": {},
      "id": "afe8200a"
    },
    {
      "cell_type": "code",
      "source": [
        "actual.shape[0]"
      ],
      "outputs": [],
      "execution_count": null,
      "metadata": {},
      "id": "165f9bdd"
    },
    {
      "cell_type": "code",
      "source": [
        "simulated_pydaddy = simulate(F1=dd.F1, F2=dd.F2, G11=dd.G11, G22=dd.G22,\n",
        "    t_int=1, timepoints=actual.shape[0], x0=actual[0, :])\n",
        "modm_simulated_pyd = np.sqrt(simulated_pydaddy[:, 0] ** 2 + simulated_pydaddy[:, 1] ** 2)"
      ],
      "outputs": [],
      "execution_count": null,
      "metadata": {},
      "id": "8edf1586"
    },
    {
      "cell_type": "code",
      "source": [
        "plt.figure(figsize=(8, 8))\n",
        "plt.hist(modm_actual, bins=100, density=True, alpha=0.5, label='Actual')\n",
        "plt.hist(modm_simulated_pyd, range=(0, 1.1), bins=100, density=True, alpha=0.5, label='Simulated (PyDaddy)')\n",
        "# plt.hist(np.sqrt(simulated[:, 0] ** 2 + simulated[:, 1] ** 2), bins=100, density=True, alpha=0.5, label='Simulated (Neural)')\n",
        "plt.legend()\n",
        "plt.xlabel('|m|')\n",
        "plt.ylabel('p(|m|)')\n",
        "plt.xlim((0, 1.1))\n",
        "plt.show()"
      ],
      "outputs": [],
      "execution_count": null,
      "metadata": {},
      "id": "8badb795"
    },
    {
      "cell_type": "code",
      "source": [
        "print(wasserstein_distance(modm_actual, modm_simulated))\n",
        "print(wasserstein_distance(modm_actual, modm_simulated_pyd))"
      ],
      "outputs": [],
      "execution_count": null,
      "metadata": {},
      "id": "b6cfe1bd"
    },
    {
      "cell_type": "code",
      "source": [
        "trel(modm_actual, modm_simulated)\n",
        "trel(modm_actual, modm_simulated_pyd)"
      ],
      "outputs": [],
      "execution_count": null,
      "metadata": {},
      "id": "41cd2568"
    },
    {
      "cell_type": "code",
      "source": [],
      "outputs": [],
      "execution_count": null,
      "metadata": {},
      "id": "f26b6c17"
    }
  ],
  "metadata": {
    "kernelspec": {
      "display_name": "Python 3 (ipykernel)",
      "language": "python",
      "name": "python3"
    },
    "language_info": {
      "codemirror_mode": {
        "name": "ipython",
        "version": 3
      },
      "file_extension": ".py",
      "mimetype": "text/x-python",
      "name": "python",
      "nbconvert_exporter": "python",
      "pygments_lexer": "ipython3",
      "version": "3.9.15"
    },
    "nteract": {
      "version": "0.28.0"
    }
  },
  "nbformat": 4,
  "nbformat_minor": 5
}